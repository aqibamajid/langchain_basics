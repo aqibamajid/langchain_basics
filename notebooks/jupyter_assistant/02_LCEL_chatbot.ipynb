{
 "cells": [
  {
   "cell_type": "markdown",
   "metadata": {},
   "source": [
    "In this notebook, we use [LCEL](https://python.langchain.com/docs/expression_language/) instead of the legacy function call. There isn't much difference in syntax here for our context, however it's good to use LCEL as most of LangChain's functionality utilises this. "
   ]
  },
  {
   "cell_type": "code",
   "execution_count": 20,
   "metadata": {},
   "outputs": [],
   "source": [
    "# For nicer chat output \n",
    "from IPython.display import display, Markdown"
   ]
  },
  {
   "cell_type": "code",
   "execution_count": 1,
   "metadata": {},
   "outputs": [
    {
     "data": {
      "text/plain": [
       "True"
      ]
     },
     "execution_count": 1,
     "metadata": {},
     "output_type": "execute_result"
    }
   ],
   "source": [
    "# To get OpenAI API key\n",
    "\n",
    "from src.paths import PARENT_DIR\n",
    "from dotenv import load_dotenv\n",
    "import os \n",
    "import openai \n",
    "\n",
    "load_dotenv(PARENT_DIR / '.env')"
   ]
  },
  {
   "cell_type": "code",
   "execution_count": 2,
   "metadata": {},
   "outputs": [],
   "source": [
    "openai.api_key = os.environ['OPENAI_API_KEY']"
   ]
  },
  {
   "cell_type": "code",
   "execution_count": 3,
   "metadata": {},
   "outputs": [],
   "source": [
    "from langchain_openai import ChatOpenAI\n",
    "\n",
    "from langchain_core.messages import HumanMessage, SystemMessage, AIMessage"
   ]
  },
  {
   "cell_type": "code",
   "execution_count": 4,
   "metadata": {},
   "outputs": [],
   "source": [
    "# Create a ChatOpenAI object. Assign to chat.\n",
    "chat = ChatOpenAI(model='gpt-3.5-turbo')"
   ]
  },
  {
   "cell_type": "code",
   "execution_count": 5,
   "metadata": {},
   "outputs": [],
   "source": [
    "# We use model.invoke('message') intead of model.('message')\n",
    "reply = chat.invoke('hello are you there?')"
   ]
  },
  {
   "cell_type": "code",
   "execution_count": 6,
   "metadata": {},
   "outputs": [
    {
     "data": {
      "text/plain": [
       "\"Yes, I'm here! How can I assist you today?\""
      ]
     },
     "execution_count": 6,
     "metadata": {},
     "output_type": "execute_result"
    }
   ],
   "source": [
    "reply.content"
   ]
  },
  {
   "cell_type": "markdown",
   "metadata": {},
   "source": [
    "Below we define : \n",
    "\n",
    "- system_message : Telling the assistant what context it's being used in, this will shape it's replies\n",
    "\n",
    "- data_brief : Explaining the data being analysed\n",
    "\n",
    "- task_request : Asking specific question "
   ]
  },
  {
   "cell_type": "code",
   "execution_count": 7,
   "metadata": {},
   "outputs": [],
   "source": [
    "system_message = \"You are an analyst working for the government, tasked with \\\n",
    "    analysing smoking behaviours, with the aim of creating government policy \\\n",
    "        to decrease smoking.\"\n",
    "\n",
    "data_brief = \"\"\"\n",
    "We have some survey data on smoking habits from the UK. The data set can be \\\n",
    "    used for analyzing the demographic characteristics of smokers and types of\\\n",
    "          tobacco consumed.\n",
    "\n",
    "A data frame with 1691 observations on the following 12 variables: \n",
    "\n",
    "1) 'gender' (string) : Gender with levels Female and Male.\n",
    "2) 'age' (numeric) : Age\n",
    "3) 'marital_status' (string) : Marital status with levels Divorced, Married, \n",
    "    Separated, Single and Widowed.\n",
    "4) 'highest_qualification' (string) : Highest education level with levels \n",
    "    A Levels, Degree, GCSE/CSE, GCSE/O Level, Higher/Sub Degree, \n",
    "    No Qualification, ONC/BTEC and Other/Sub Degree\n",
    "5) 'nationality' (string) : Nationality with levels British, English, Irish, \n",
    "    Scottish, Welsh, Other, Refused and Unknown.\n",
    "6) 'ethnicity' (string) : Ethnicity with levels Asian, Black, Chinese, Mixed, \n",
    "    White and Refused Unknown.\n",
    "7) 'gross_income' (string) : Gross income with levels Under 2,600, 2,600 to \n",
    "    5,200, 5,200 to 10,400, 10,400 to 15,600, 15,600 to 20,800, 20,800 to 28,600, \n",
    "    28,600 to 36,400, Above 36,400, Refused and Unknown.\n",
    "8) 'region' (string) : Region with levels London, Midlands & East Anglia, \n",
    "    Scotland, South East, South West, The North and Wales\n",
    "9) 'smoke' (boolean) : Smoking status with levels No and Yes\n",
    "10) 'amt_weekends' (integer) : Number of cigarettes smoked per day on weekends.\n",
    "11) 'amt_weekdays' (integer) : Number of cigarettes smoked per day on weekdays.\n",
    "12) 'type' (string) : Type of cigarettes smoked with levels Packets, \n",
    "    Hand-Rolled, Both/Mainly Packets and Both/Mainly Hand-Rolled \n",
    "\"\"\"\n",
    "\n",
    "task_request = \"Suggest some data analysis questions we could get answers from this data.\"\n",
    "\n",
    "\n",
    "initial_message = [\n",
    "    SystemMessage(content = system_message),\n",
    "    HumanMessage(content=f\"{data_brief}\\n\\n{task_request}\")\n",
    "]"
   ]
  },
  {
   "cell_type": "code",
   "execution_count": 8,
   "metadata": {},
   "outputs": [],
   "source": [
    "# Pass your message to GPT. Assign to rsps_suggest_questions.\n",
    "intial_response = chat.invoke(initial_message)"
   ]
  },
  {
   "cell_type": "code",
   "execution_count": 9,
   "metadata": {},
   "outputs": [
    {
     "name": "stdout",
     "output_type": "stream",
     "text": [
      "Here are some data analysis questions you could explore using the provided survey data on smoking habits in the UK:\n",
      "\n",
      "1. What is the overall prevalence of smoking in different demographic groups based on gender, age, marital status, education level, nationality, ethnicity, income level, and region?\n",
      "2. Are there any significant differences in smoking prevalence between genders?\n",
      "3. How does smoking prevalence vary across different age groups?\n",
      "4. Is there a relationship between marital status and smoking habits?\n",
      "5. What is the distribution of smoking prevalence among individuals with different education levels?\n",
      "6. Are there any differences in smoking habits based on nationality and ethnicity?\n",
      "7. How does gross income level relate to smoking prevalence?\n",
      "8. Which regions in the UK have the highest and lowest rates of smoking?\n",
      "9. What are the average number of cigarettes smoked per day on weekends and weekdays among smokers?\n",
      "10. What is the most common type of cigarettes smoked among smokers in the survey?\n",
      "\n",
      "By analyzing these questions, you can gain insights into the smoking behaviors of different demographic groups and use this information to develop targeted government policies aimed at reducing smoking rates in the UK.\n"
     ]
    }
   ],
   "source": [
    "print(intial_response.content)"
   ]
  },
  {
   "cell_type": "code",
   "execution_count": 16,
   "metadata": {},
   "outputs": [],
   "source": [
    "request_1_output = chat.invoke(initial_message + \n",
    "                               [intial_response] +\n",
    "    [HumanMessage(content='Can you give me the python code to answer step 1? \\\n",
    "                  The output should just be python with comments. The data to \\\n",
    "                  be loaded is saved in data/smoking.csv, where data is \\\n",
    "                    in a folder outside the current working directory.')]\n",
    "            )"
   ]
  },
  {
   "cell_type": "code",
   "execution_count": 21,
   "metadata": {},
   "outputs": [
    {
     "data": {
      "text/markdown": [
       "Certainly! Below is a Python code snippet that reads the data from the 'smoking.csv' file located in a folder outside the current working directory and answers step 1 by providing the overall prevalence of smoking in different demographic groups:\n",
       "\n",
       "```python\n",
       "import pandas as pd\n",
       "\n",
       "# Load the data from the specified file path\n",
       "file_path = \"../data/smoking.csv\"\n",
       "data = pd.read_csv(file_path)\n",
       "\n",
       "# Calculate the overall prevalence of smoking\n",
       "overall_smoking_prevalence = data['smoke'].value_counts(normalize=True) * 100\n",
       "\n",
       "# Calculate smoking prevalence based on different demographic groups\n",
       "smoking_prevalence_gender = data.groupby('gender')['smoke'].value_counts(normalize=True) * 100\n",
       "smoking_prevalence_age = data.groupby('age')['smoke'].value_counts(normalize=True) * 100\n",
       "smoking_prevalence_marital = data.groupby('marital_status')['smoke'].value_counts(normalize=True) * 100\n",
       "smoking_prevalence_education = data.groupby('highest_qualification')['smoke'].value_counts(normalize=True) * 100\n",
       "smoking_prevalence_nationality = data.groupby('nationality')['smoke'].value_counts(normalize=True) * 100\n",
       "smoking_prevalence_ethnicity = data.groupby('ethnicity')['smoke'].value_counts(normalize=True) * 100\n",
       "smoking_prevalence_income = data.groupby('gross_income')['smoke'].value_counts(normalize=True) * 100\n",
       "smoking_prevalence_region = data.groupby('region')['smoke'].value_counts(normalize=True) * 100\n",
       "\n",
       "# Print the overall prevalence of smoking\n",
       "print(\"Overall Smoking Prevalence:\")\n",
       "print(overall_smoking_prevalence)\n",
       "\n",
       "# Print smoking prevalence in different demographic groups\n",
       "print(\"\\nSmoking Prevalence by Gender:\")\n",
       "print(smoking_prevalence_gender)\n",
       "print(\"\\nSmoking Prevalence by Age:\")\n",
       "print(smoking_prevalence_age)\n",
       "print(\"\\nSmoking Prevalence by Marital Status:\")\n",
       "print(smoking_prevalence_marital)\n",
       "print(\"\\nSmoking Prevalence by Highest Qualification:\")\n",
       "print(smoking_prevalence_education)\n",
       "print(\"\\nSmoking Prevalence by Nationality:\")\n",
       "print(smoking_prevalence_nationality)\n",
       "print(\"\\nSmoking Prevalence by Ethnicity:\")\n",
       "print(smoking_prevalence_ethnicity)\n",
       "print(\"\\nSmoking Prevalence by Gross Income:\")\n",
       "print(smoking_prevalence_income)\n",
       "print(\"\\nSmoking Prevalence by Region:\")\n",
       "print(smoking_prevalence_region)\n",
       "```\n",
       "\n",
       "This code snippet will provide the overall prevalence of smoking and smoking prevalence in different demographic groups based on gender, age, marital status, education level, nationality, ethnicity, income level, and region."
      ],
      "text/plain": [
       "<IPython.core.display.Markdown object>"
      ]
     },
     "metadata": {},
     "output_type": "display_data"
    }
   ],
   "source": [
    "display(Markdown(request_1_output.content))\n",
    "#print(request_1_output.content)"
   ]
  },
  {
   "cell_type": "code",
   "execution_count": 23,
   "metadata": {},
   "outputs": [],
   "source": [
    "request_2_output = chat.invoke(initial_message + \n",
    "                               [intial_response] +\n",
    "    [HumanMessage(content='Can you give me the python code to answer step 1? \\\n",
    "                  The output should just be python with comments. The data to \\\n",
    "                  be loaded is saved in data/smoking.csv, where data is \\\n",
    "                in a folder outside the current working directory.')]\n",
    "                + [request_1_output]\n",
    "                + [HumanMessage(content='Can you change the last section so \\\n",
    "                                that the print is a for loop? this will make \\\n",
    "                                for more efficient code')]\n",
    "            )"
   ]
  },
  {
   "cell_type": "code",
   "execution_count": 24,
   "metadata": {},
   "outputs": [
    {
     "data": {
      "text/markdown": [
       "Certainly! Here is the updated section of the code with a for loop to print smoking prevalence in different demographic groups:\n",
       "\n",
       "```python\n",
       "# Define the demographic columns for grouping\n",
       "demographic_columns = ['gender', 'age', 'marital_status', 'highest_qualification', 'nationality', 'ethnicity', 'gross_income', 'region']\n",
       "\n",
       "# Print smoking prevalence in different demographic groups using a for loop\n",
       "for column in demographic_columns:\n",
       "    smoking_prevalence_demographic = data.groupby(column)['smoke'].value_counts(normalize=True) * 100\n",
       "    print(f\"\\nSmoking Prevalence by {column}:\")\n",
       "    print(smoking_prevalence_demographic)\n",
       "```\n",
       "\n",
       "This updated code snippet uses a for loop to iterate through the demographic columns and print the smoking prevalence in each demographic group. This approach helps make the code more efficient and concise."
      ],
      "text/plain": [
       "<IPython.core.display.Markdown object>"
      ]
     },
     "metadata": {},
     "output_type": "display_data"
    }
   ],
   "source": [
    "display(Markdown(request_2_output.content))"
   ]
  },
  {
   "cell_type": "code",
   "execution_count": 25,
   "metadata": {},
   "outputs": [
    {
     "name": "stdout",
     "output_type": "stream",
     "text": [
      "Overall Smoking Prevalence:\n",
      "No     75.103489\n",
      "Yes    24.896511\n",
      "Name: smoke, dtype: float64\n",
      "\n",
      "Smoking Prevalence by gender:\n",
      "gender  smoke\n",
      "Female  No       75.751295\n",
      "        Yes      24.248705\n",
      "Male    No       74.242424\n",
      "        Yes      25.757576\n",
      "Name: smoke, dtype: float64\n",
      "\n",
      "Smoking Prevalence by age:\n",
      "age  smoke\n",
      "16   No        73.333333\n",
      "     Yes       26.666667\n",
      "17   No        69.230769\n",
      "     Yes       30.769231\n",
      "18   No        63.636364\n",
      "                 ...    \n",
      "91   No       100.000000\n",
      "93   No        50.000000\n",
      "     Yes       50.000000\n",
      "95   No       100.000000\n",
      "97   No       100.000000\n",
      "Name: smoke, Length: 145, dtype: float64\n",
      "\n",
      "Smoking Prevalence by marital_status:\n",
      "marital_status  smoke\n",
      "Divorced        No       63.975155\n",
      "                Yes      36.024845\n",
      "Married         No       82.389163\n",
      "                Yes      17.610837\n",
      "Separated       No       67.647059\n",
      "                Yes      32.352941\n",
      "Single          No       62.997658\n",
      "                Yes      37.002342\n",
      "Widowed         No       82.062780\n",
      "                Yes      17.937220\n",
      "Name: smoke, dtype: float64\n",
      "\n",
      "Smoking Prevalence by highest_qualification:\n",
      "highest_qualification  smoke\n",
      "A Levels               No       80.000000\n",
      "                       Yes      20.000000\n",
      "Degree                 No       85.114504\n",
      "                       Yes      14.885496\n",
      "GCSE/CSE               No       62.745098\n",
      "                       Yes      37.254902\n",
      "GCSE/O Level           No       65.909091\n",
      "                       Yes      34.090909\n",
      "Higher/Sub Degree      No       78.400000\n",
      "                       Yes      21.600000\n",
      "No Qualification       No       76.621160\n",
      "                       Yes      23.378840\n",
      "ONC/BTEC               No       69.736842\n",
      "                       Yes      30.263158\n",
      "Other/Sub Degree       No       75.590551\n",
      "                       Yes      24.409449\n",
      "Name: smoke, dtype: float64\n",
      "\n",
      "Smoking Prevalence by nationality:\n",
      "nationality  smoke\n",
      "British      No        76.022305\n",
      "             Yes       23.977695\n",
      "English      No        75.750300\n",
      "             Yes       24.249700\n",
      "Irish        No        52.173913\n",
      "             Yes       47.826087\n",
      "Other        No        80.281690\n",
      "             Yes       19.718310\n",
      "Refused      No        82.352941\n",
      "             Yes       17.647059\n",
      "Scottish     No        68.309859\n",
      "             Yes       31.690141\n",
      "Unknown      Yes      100.000000\n",
      "Welsh        No        75.757576\n",
      "             Yes       24.242424\n",
      "Name: smoke, dtype: float64\n",
      "\n",
      "Smoking Prevalence by ethnicity:\n",
      "ethnicity  smoke\n",
      "Asian      No       80.487805\n",
      "           Yes      19.512195\n",
      "Black      No       76.470588\n",
      "           Yes      23.529412\n",
      "Chinese    No       81.481481\n",
      "           Yes      18.518519\n",
      "Mixed      No       64.285714\n",
      "           Yes      35.714286\n",
      "Refused    No       69.230769\n",
      "           Yes      30.769231\n",
      "Unknown    No       50.000000\n",
      "           Yes      50.000000\n",
      "White      No       75.000000\n",
      "           Yes      25.000000\n",
      "Name: smoke, dtype: float64\n",
      "\n",
      "Smoking Prevalence by gross_income:\n",
      "gross_income      smoke\n",
      "10,400 to 15,600  No       69.029851\n",
      "                  Yes      30.970149\n",
      "15,600 to 20,800  No       76.063830\n",
      "                  Yes      23.936170\n",
      "2,600 to 5,200    No       75.097276\n",
      "                  Yes      24.902724\n",
      "20,800 to 28,600  No       75.483871\n",
      "                  Yes      24.516129\n",
      "28,600 to 36,400  No       88.607595\n",
      "                  Yes      11.392405\n",
      "5,200 to 10,400   No       72.979798\n",
      "                  Yes      27.020202\n",
      "Above 36,400      No       83.146067\n",
      "                  Yes      16.853933\n",
      "Refused           No       80.555556\n",
      "                  Yes      19.444444\n",
      "Under 2,600       No       72.932331\n",
      "                  Yes      27.067669\n",
      "Unknown           No       83.333333\n",
      "                  Yes      16.666667\n",
      "Name: smoke, dtype: float64\n",
      "\n",
      "Smoking Prevalence by region:\n",
      "region                  smoke\n",
      "London                  No       72.527473\n",
      "                        Yes      27.472527\n",
      "Midlands & East Anglia  No       79.232506\n",
      "                        Yes      20.767494\n",
      "Scotland                No       65.540541\n",
      "                        Yes      34.459459\n",
      "South East              No       74.206349\n",
      "                        Yes      25.793651\n",
      "South West              No       73.248408\n",
      "                        Yes      26.751592\n",
      "The North               No       76.291080\n",
      "                        Yes      23.708920\n",
      "Wales                   No       75.903614\n",
      "                        Yes      24.096386\n",
      "Name: smoke, dtype: float64\n"
     ]
    }
   ],
   "source": [
    "import pandas as pd\n",
    "\n",
    "# Load the data from the specified file path\n",
    "file_path = \"../data/smoking.csv\"\n",
    "data = pd.read_csv(file_path)\n",
    "\n",
    "# Calculate the overall prevalence of smoking\n",
    "overall_smoking_prevalence = data['smoke'].value_counts(normalize=True) * 100\n",
    "\n",
    "# Calculate smoking prevalence based on different demographic groups\n",
    "smoking_prevalence_gender = data.groupby('gender')['smoke'].value_counts(normalize=True) * 100\n",
    "smoking_prevalence_age = data.groupby('age')['smoke'].value_counts(normalize=True) * 100\n",
    "smoking_prevalence_marital = data.groupby('marital_status')['smoke'].value_counts(normalize=True) * 100\n",
    "smoking_prevalence_education = data.groupby('highest_qualification')['smoke'].value_counts(normalize=True) * 100\n",
    "smoking_prevalence_nationality = data.groupby('nationality')['smoke'].value_counts(normalize=True) * 100\n",
    "smoking_prevalence_ethnicity = data.groupby('ethnicity')['smoke'].value_counts(normalize=True) * 100\n",
    "smoking_prevalence_income = data.groupby('gross_income')['smoke'].value_counts(normalize=True) * 100\n",
    "smoking_prevalence_region = data.groupby('region')['smoke'].value_counts(normalize=True) * 100\n",
    "\n",
    "# Print the overall prevalence of smoking\n",
    "print(\"Overall Smoking Prevalence:\")\n",
    "print(overall_smoking_prevalence)\n",
    "\n",
    "# Define the demographic columns for grouping\n",
    "demographic_columns = ['gender', 'age', 'marital_status', 'highest_qualification', 'nationality', 'ethnicity', 'gross_income', 'region']\n",
    "\n",
    "# Print smoking prevalence in different demographic groups using a for loop\n",
    "for column in demographic_columns:\n",
    "    smoking_prevalence_demographic = data.groupby(column)['smoke'].value_counts(normalize=True) * 100\n",
    "    print(f\"\\nSmoking Prevalence by {column}:\")\n",
    "    print(smoking_prevalence_demographic)"
   ]
  }
 ],
 "metadata": {
  "kernelspec": {
   "display_name": ".venv",
   "language": "python",
   "name": "python3"
  },
  "language_info": {
   "codemirror_mode": {
    "name": "ipython",
    "version": 3
   },
   "file_extension": ".py",
   "mimetype": "text/x-python",
   "name": "python",
   "nbconvert_exporter": "python",
   "pygments_lexer": "ipython3",
   "version": "3.10.4"
  }
 },
 "nbformat": 4,
 "nbformat_minor": 2
}
