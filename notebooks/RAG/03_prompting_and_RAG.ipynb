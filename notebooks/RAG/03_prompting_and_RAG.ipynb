{
 "cells": [
  {
   "cell_type": "markdown",
   "metadata": {},
   "source": [
    "### Imports"
   ]
  },
  {
   "cell_type": "code",
   "execution_count": 2,
   "metadata": {},
   "outputs": [
    {
     "data": {
      "text/plain": [
       "True"
      ]
     },
     "execution_count": 2,
     "metadata": {},
     "output_type": "execute_result"
    }
   ],
   "source": [
    "# APIs\n",
    "import sys \n",
    "sys.path.append('..\\..\\src')\n",
    "from paths import PARENT_DIR\n",
    "\n",
    "from dotenv import load_dotenv\n",
    "\n",
    "\n",
    "load_dotenv(PARENT_DIR / '.env')"
   ]
  },
  {
   "cell_type": "code",
   "execution_count": 3,
   "metadata": {},
   "outputs": [
    {
     "name": "stderr",
     "output_type": "stream",
     "text": [
      "c:\\Users\\614019146\\Documents\\langchain_basics\\rag_env\\lib\\site-packages\\pinecone\\index.py:4: TqdmWarning: IProgress not found. Please update jupyter and ipywidgets. See https://ipywidgets.readthedocs.io/en/stable/user_install.html\n",
      "  from tqdm.autonotebook import tqdm\n"
     ]
    }
   ],
   "source": [
    "import os\n",
    "import pinecone\n",
    "\n",
    "# Initialize Pinecone\n",
    "pinecone.init(api_key=os.environ[\"PINECONE_API_KEY\"], environment=\"gcp-starter\")"
   ]
  },
  {
   "cell_type": "markdown",
   "metadata": {},
   "source": [
    "### Creating Prompts\n",
    "\n",
    "1) Document prompt : This is a template, which instructs how results from pinecone should be formatted.\n",
    "2) Question prompt : This is the template which ultimately is given as input to the llm. It incorporates the document prompt. \n",
    "\n"
   ]
  },
  {
   "cell_type": "code",
   "execution_count": 27,
   "metadata": {},
   "outputs": [],
   "source": [
    "from langchain.prompts import PromptTemplate\n",
    "\n",
    "DOCUMENT_PROMPT  = \"\"\"{page_content}\"\"\"\n",
    "\n",
    "\n",
    "QUESTION_PROMPT = \"\"\" You have been asked a question about tv shows, typically to recommend some shows. Below is some information \n",
    "extracted from a tv-show database, and it will help you answer the question.\n",
    "\n",
    "Context:\n",
    "{context}\n",
    "\n",
    "The question : {question}\n",
    "\n",
    "answer: \n",
    "\"\"\"\n",
    "\n",
    "document_prompt = PromptTemplate.from_template(DOCUMENT_PROMPT)\n",
    "question_prompt = PromptTemplate.from_template(QUESTION_PROMPT)"
   ]
  },
  {
   "cell_type": "markdown",
   "metadata": {},
   "source": [
    "### Using langchain to perform RAG"
   ]
  },
  {
   "cell_type": "code",
   "execution_count": 13,
   "metadata": {},
   "outputs": [],
   "source": [
    "# imports for making pinecone retriever\n",
    "from langchain.embeddings import OpenAIEmbeddings\n",
    "from langchain.vectorstores import Pinecone\n",
    "\n",
    "# imports to build chain \n",
    "from langchain.chains import RetrievalQAWithSourcesChain, RetrievalQA\n",
    "from langchain.chat_models import ChatOpenAI\n"
   ]
  },
  {
   "cell_type": "code",
   "execution_count": 28,
   "metadata": {},
   "outputs": [
    {
     "name": "stderr",
     "output_type": "stream",
     "text": [
      "c:\\Users\\614019146\\Documents\\langchain_basics\\rag_env\\lib\\site-packages\\langchain\\vectorstores\\pinecone.py:59: UserWarning: Passing in `embedding` as a Callable is deprecated. Please pass in an Embeddings object instead.\n",
      "  warnings.warn(\n"
     ]
    }
   ],
   "source": [
    "# Initialise the embeddings model\n",
    "embeddings = OpenAIEmbeddings()\n",
    "\n",
    "# Create the DocSearch object using the Pinecone index\n",
    "docsearch = Pinecone.from_existing_index(\"tmdb-tv-shows\", embeddings.embed_query)\n",
    "\n",
    "# choose llm to answer question \n",
    "model = \"gpt-3.5-turbo\"\n",
    "\n",
    "# Create chatbot, takes in llm, chain format, and retriever. \"stuff\" is a simple chain \n",
    "qa_bot = RetrievalQA.from_chain_type(\n",
    "    chain_type=\"stuff\",\n",
    "    llm=ChatOpenAI(model_name=model, temperature=0),\n",
    "    chain_type_kwargs={\n",
    "        \"document_prompt\": document_prompt,\n",
    "        \"prompt\": question_prompt,\n",
    "    },\n",
    "    retriever=docsearch.as_retriever(),\n",
    ")\n"
   ]
  },
  {
   "cell_type": "code",
   "execution_count": 50,
   "metadata": {},
   "outputs": [],
   "source": [
    "question = \"Can you recommend a comedy show?\"\n",
    "\n",
    "# Ask the question \n",
    "answer = qa_bot(question)"
   ]
  },
  {
   "cell_type": "code",
   "execution_count": 51,
   "metadata": {},
   "outputs": [
    {
     "data": {
      "text/markdown": [
       "Based on the information provided, I would recommend checking out \"Comedy Showcase\" on Channel 4. It features one-off comedy specials with up-and-coming talent, similar to the format of the earlier Comedy Playhouse. It is a returning series, so you can enjoy a variety of comedic performances from Britain's fledgling comedy talent."
      ],
      "text/plain": [
       "<IPython.core.display.Markdown object>"
      ]
     },
     "metadata": {},
     "output_type": "display_data"
    }
   ],
   "source": [
    "from IPython.display import display, Markdown\n",
    "\n",
    "display(Markdown(answer['result']))"
   ]
  },
  {
   "cell_type": "markdown",
   "metadata": {},
   "source": [
    "#### Updating the question prompt\n",
    "\n",
    "Updating the prompt, so it includes an example q and a."
   ]
  },
  {
   "cell_type": "code",
   "execution_count": 54,
   "metadata": {},
   "outputs": [],
   "source": [
    "QUESTION_PROMPT_2 = \"\"\" \n",
    "You have been asked a question about tv shows, and below is some information \n",
    "extracted from a tv-show database which should help you answer. \n",
    "\n",
    "===============\n",
    "Here is an example question and answer: \n",
    "\n",
    "QUESTION : \n",
    "Can you recommend a sci-fi tv show? \n",
    "================\n",
    "Name: Dark/Web                               \n",
    "Genres: Sci-Fi & Fantasy                               \n",
    "Overview: A horror anthology series that explores the dangers of a totally connected world.                                \n",
    "Status: Ended                                \n",
    "Network: Prime Video \n",
    "=========\n",
    "Name: Star Trek: Prodigy                               \n",
    "Genres: Animation, Sci-Fi & Fantasy, Kids                               \n",
    "Overview: A motley crew of young rebellious aliens commandeer an old Starfleet ship and must figure out how to work together while navigating a greater galaxy, in search for a better future. These six young outcasts know nothing about the ship they have commandeered, but over the course of their adventures together, they will each be introduced to Starfleet and the ideals it represents.                                \n",
    "Status: Canceled                                \n",
    "Network: Paramount+ \n",
    "=========\n",
    "Name: Dungeons & Dragons                               \n",
    "Genres: Animation, Sci-Fi & Fantasy, Comedy, Action & Adventure, Kids                               \n",
    "Overview: Six friends are transported into the Dungeons & Dragons realm and must try to find a way home with the help of their guide 'Dungeon Master'.                                \n",
    "Status: Canceled                                \n",
    "Network: CBS \n",
    "=========\n",
    "ANSWER : Dark/Web is a sci-fi and fantasy show which illustrates the dangers of a digitially connected world. You can watch it on Prime. \n",
    "\n",
    "=======\n",
    "\n",
    "Context:\n",
    "{context}\n",
    "\n",
    "The question : {question}\n",
    "\n",
    "answer: \n",
    "\"\"\"\n",
    "\n",
    "question_prompt_2 = PromptTemplate.from_template(QUESTION_PROMPT_2)"
   ]
  },
  {
   "cell_type": "code",
   "execution_count": 55,
   "metadata": {},
   "outputs": [],
   "source": [
    "# Create chatbot, takes in llm, chain format, and retriever. \"stuff\" is a simple chain \n",
    "qa_bot_2 = RetrievalQA.from_chain_type(\n",
    "    chain_type=\"stuff\",\n",
    "    llm=ChatOpenAI(model_name=model, temperature=0),\n",
    "    chain_type_kwargs={\n",
    "        \"document_prompt\": document_prompt,\n",
    "        \"prompt\": question_prompt_2,\n",
    "    },\n",
    "    retriever=docsearch.as_retriever(),\n",
    ")"
   ]
  },
  {
   "cell_type": "code",
   "execution_count": 56,
   "metadata": {},
   "outputs": [
    {
     "data": {
      "text/markdown": [
       "If you're looking for a good comedy show, you can check out \"The Comedy Lineup\" on Netflix. It features up-and-coming comedians performing 15-minute sets in a stand-up comedy showcase series."
      ],
      "text/plain": [
       "<IPython.core.display.Markdown object>"
      ]
     },
     "metadata": {},
     "output_type": "display_data"
    }
   ],
   "source": [
    "display(Markdown(qa_bot_2(question)['result']))"
   ]
  }
 ],
 "metadata": {
  "kernelspec": {
   "display_name": "rag_env",
   "language": "python",
   "name": "python3"
  },
  "language_info": {
   "codemirror_mode": {
    "name": "ipython",
    "version": 3
   },
   "file_extension": ".py",
   "mimetype": "text/x-python",
   "name": "python",
   "nbconvert_exporter": "python",
   "pygments_lexer": "ipython3",
   "version": "3.9.0"
  }
 },
 "nbformat": 4,
 "nbformat_minor": 2
}
