{
 "cells": [
  {
   "cell_type": "markdown",
   "metadata": {},
   "source": [
    "In this notebook, we embedd and export our data to [Pinecone.](https://www.pinecone.io/?utm_term=pinecone%20db&utm_campaign=Brand+-+US/Canada&utm_source=adwords&utm_medium=ppc&hsa_acc=3111363649&hsa_cam=21023356007&hsa_grp=156209469342&hsa_ad=690982079000&hsa_src=g&hsa_tgt=kwd-1627713670685&hsa_kw=pinecone%20db&hsa_mt=p&hsa_net=adwords&hsa_ver=3&gad_source=1&gclid=EAIaIQobChMIjYnihIqYhgMVzpdQBh1zmQM9EAAYASAAEgLCGPD_BwE)"
   ]
  },
  {
   "cell_type": "code",
   "execution_count": 1,
   "metadata": {},
   "outputs": [],
   "source": [
    "import pandas as pd\n",
    "pd.set_option('display.max_columns', 500)"
   ]
  },
  {
   "cell_type": "code",
   "execution_count": 2,
   "metadata": {},
   "outputs": [
    {
     "data": {
      "text/html": [
       "<div>\n",
       "<style scoped>\n",
       "    .dataframe tbody tr th:only-of-type {\n",
       "        vertical-align: middle;\n",
       "    }\n",
       "\n",
       "    .dataframe tbody tr th {\n",
       "        vertical-align: top;\n",
       "    }\n",
       "\n",
       "    .dataframe thead th {\n",
       "        text-align: right;\n",
       "    }\n",
       "</style>\n",
       "<table border=\"1\" class=\"dataframe\">\n",
       "  <thead>\n",
       "    <tr style=\"text-align: right;\">\n",
       "      <th></th>\n",
       "      <th>id</th>\n",
       "      <th>name</th>\n",
       "      <th>number_of_seasons</th>\n",
       "      <th>number_of_episodes</th>\n",
       "      <th>original_language</th>\n",
       "      <th>vote_count</th>\n",
       "      <th>vote_average</th>\n",
       "      <th>overview</th>\n",
       "      <th>adult</th>\n",
       "      <th>backdrop_path</th>\n",
       "      <th>first_air_date</th>\n",
       "      <th>last_air_date</th>\n",
       "      <th>homepage</th>\n",
       "      <th>in_production</th>\n",
       "      <th>original_name</th>\n",
       "      <th>popularity</th>\n",
       "      <th>poster_path</th>\n",
       "      <th>type</th>\n",
       "      <th>status</th>\n",
       "      <th>tagline</th>\n",
       "      <th>genres</th>\n",
       "      <th>created_by</th>\n",
       "      <th>languages</th>\n",
       "      <th>networks</th>\n",
       "      <th>origin_country</th>\n",
       "      <th>spoken_languages</th>\n",
       "      <th>production_companies</th>\n",
       "      <th>production_countries</th>\n",
       "      <th>episode_run_time</th>\n",
       "    </tr>\n",
       "  </thead>\n",
       "  <tbody>\n",
       "    <tr>\n",
       "      <th>0</th>\n",
       "      <td>1399</td>\n",
       "      <td>Game of Thrones</td>\n",
       "      <td>8</td>\n",
       "      <td>73</td>\n",
       "      <td>en</td>\n",
       "      <td>21857</td>\n",
       "      <td>8.442</td>\n",
       "      <td>Seven noble families fight for control of the ...</td>\n",
       "      <td>False</td>\n",
       "      <td>/2OMB0ynKlyIenMJWI2Dy9IWT4c.jpg</td>\n",
       "      <td>2011-04-17</td>\n",
       "      <td>2019-05-19</td>\n",
       "      <td>http://www.hbo.com/game-of-thrones</td>\n",
       "      <td>False</td>\n",
       "      <td>Game of Thrones</td>\n",
       "      <td>1083.917</td>\n",
       "      <td>/1XS1oqL89opfnbLl8WnZY1O1uJx.jpg</td>\n",
       "      <td>Scripted</td>\n",
       "      <td>Ended</td>\n",
       "      <td>Winter Is Coming</td>\n",
       "      <td>Sci-Fi &amp; Fantasy, Drama, Action &amp; Adventure</td>\n",
       "      <td>David Benioff, D.B. Weiss</td>\n",
       "      <td>en</td>\n",
       "      <td>HBO</td>\n",
       "      <td>US</td>\n",
       "      <td>English</td>\n",
       "      <td>Revolution Sun Studios, Television 360, Genera...</td>\n",
       "      <td>United Kingdom, United States of America</td>\n",
       "      <td>0</td>\n",
       "    </tr>\n",
       "    <tr>\n",
       "      <th>1</th>\n",
       "      <td>71446</td>\n",
       "      <td>Money Heist</td>\n",
       "      <td>3</td>\n",
       "      <td>41</td>\n",
       "      <td>es</td>\n",
       "      <td>17836</td>\n",
       "      <td>8.257</td>\n",
       "      <td>To carry out the biggest heist in history, a m...</td>\n",
       "      <td>False</td>\n",
       "      <td>/gFZriCkpJYsApPZEF3jhxL4yLzG.jpg</td>\n",
       "      <td>2017-05-02</td>\n",
       "      <td>2021-12-03</td>\n",
       "      <td>https://www.netflix.com/title/80192098</td>\n",
       "      <td>False</td>\n",
       "      <td>La Casa de Papel</td>\n",
       "      <td>96.354</td>\n",
       "      <td>/reEMJA1uzscCbkpeRJeTT2bjqUp.jpg</td>\n",
       "      <td>Scripted</td>\n",
       "      <td>Ended</td>\n",
       "      <td>The perfect robbery.</td>\n",
       "      <td>Crime, Drama</td>\n",
       "      <td>Álex Pina</td>\n",
       "      <td>es</td>\n",
       "      <td>Netflix, Antena 3</td>\n",
       "      <td>ES</td>\n",
       "      <td>Español</td>\n",
       "      <td>Vancouver Media</td>\n",
       "      <td>Spain</td>\n",
       "      <td>70</td>\n",
       "    </tr>\n",
       "    <tr>\n",
       "      <th>2</th>\n",
       "      <td>66732</td>\n",
       "      <td>Stranger Things</td>\n",
       "      <td>4</td>\n",
       "      <td>34</td>\n",
       "      <td>en</td>\n",
       "      <td>16161</td>\n",
       "      <td>8.624</td>\n",
       "      <td>When a young boy vanishes, a small town uncove...</td>\n",
       "      <td>False</td>\n",
       "      <td>/2MaumbgBlW1NoPo3ZJO38A6v7OS.jpg</td>\n",
       "      <td>2016-07-15</td>\n",
       "      <td>2022-07-01</td>\n",
       "      <td>https://www.netflix.com/title/80057281</td>\n",
       "      <td>True</td>\n",
       "      <td>Stranger Things</td>\n",
       "      <td>185.711</td>\n",
       "      <td>/49WJfeN0moxb9IPfGn8AIqMGskD.jpg</td>\n",
       "      <td>Scripted</td>\n",
       "      <td>Returning Series</td>\n",
       "      <td>Every ending has a beginning.</td>\n",
       "      <td>Drama, Sci-Fi &amp; Fantasy, Mystery</td>\n",
       "      <td>Matt Duffer, Ross Duffer</td>\n",
       "      <td>en</td>\n",
       "      <td>Netflix</td>\n",
       "      <td>US</td>\n",
       "      <td>English</td>\n",
       "      <td>21 Laps Entertainment, Monkey Massacre Product...</td>\n",
       "      <td>United States of America</td>\n",
       "      <td>0</td>\n",
       "    </tr>\n",
       "  </tbody>\n",
       "</table>\n",
       "</div>"
      ],
      "text/plain": [
       "      id             name  number_of_seasons  number_of_episodes  \\\n",
       "0   1399  Game of Thrones                  8                  73   \n",
       "1  71446      Money Heist                  3                  41   \n",
       "2  66732  Stranger Things                  4                  34   \n",
       "\n",
       "  original_language  vote_count  vote_average  \\\n",
       "0                en       21857         8.442   \n",
       "1                es       17836         8.257   \n",
       "2                en       16161         8.624   \n",
       "\n",
       "                                            overview  adult  \\\n",
       "0  Seven noble families fight for control of the ...  False   \n",
       "1  To carry out the biggest heist in history, a m...  False   \n",
       "2  When a young boy vanishes, a small town uncove...  False   \n",
       "\n",
       "                      backdrop_path first_air_date last_air_date  \\\n",
       "0   /2OMB0ynKlyIenMJWI2Dy9IWT4c.jpg     2011-04-17    2019-05-19   \n",
       "1  /gFZriCkpJYsApPZEF3jhxL4yLzG.jpg     2017-05-02    2021-12-03   \n",
       "2  /2MaumbgBlW1NoPo3ZJO38A6v7OS.jpg     2016-07-15    2022-07-01   \n",
       "\n",
       "                                 homepage  in_production     original_name  \\\n",
       "0      http://www.hbo.com/game-of-thrones          False   Game of Thrones   \n",
       "1  https://www.netflix.com/title/80192098          False  La Casa de Papel   \n",
       "2  https://www.netflix.com/title/80057281           True   Stranger Things   \n",
       "\n",
       "   popularity                       poster_path      type            status  \\\n",
       "0    1083.917  /1XS1oqL89opfnbLl8WnZY1O1uJx.jpg  Scripted             Ended   \n",
       "1      96.354  /reEMJA1uzscCbkpeRJeTT2bjqUp.jpg  Scripted             Ended   \n",
       "2     185.711  /49WJfeN0moxb9IPfGn8AIqMGskD.jpg  Scripted  Returning Series   \n",
       "\n",
       "                         tagline                                       genres  \\\n",
       "0               Winter Is Coming  Sci-Fi & Fantasy, Drama, Action & Adventure   \n",
       "1           The perfect robbery.                                 Crime, Drama   \n",
       "2  Every ending has a beginning.             Drama, Sci-Fi & Fantasy, Mystery   \n",
       "\n",
       "                  created_by languages           networks origin_country  \\\n",
       "0  David Benioff, D.B. Weiss        en                HBO             US   \n",
       "1                  Álex Pina        es  Netflix, Antena 3             ES   \n",
       "2   Matt Duffer, Ross Duffer        en            Netflix             US   \n",
       "\n",
       "  spoken_languages                               production_companies  \\\n",
       "0          English  Revolution Sun Studios, Television 360, Genera...   \n",
       "1          Español                                    Vancouver Media   \n",
       "2          English  21 Laps Entertainment, Monkey Massacre Product...   \n",
       "\n",
       "                       production_countries  episode_run_time  \n",
       "0  United Kingdom, United States of America                 0  \n",
       "1                                     Spain                70  \n",
       "2                  United States of America                 0  "
      ]
     },
     "execution_count": 2,
     "metadata": {},
     "output_type": "execute_result"
    }
   ],
   "source": [
    "df = pd.read_csv(r'../../data/TMDB_tv_dataset_v3.csv')\n",
    "\n",
    "df.head(3)"
   ]
  },
  {
   "cell_type": "code",
   "execution_count": 3,
   "metadata": {},
   "outputs": [
    {
     "name": "stdout",
     "output_type": "stream",
     "text": [
      "Number of shows with english language only : 38671\n"
     ]
    }
   ],
   "source": [
    "# Make a subset of the data, where shows are in english language only \n",
    "\n",
    "df = df.loc[df['languages']=='en', :]\n",
    "\n",
    "print(f'Number of shows with english language only : {len(df)}')"
   ]
  },
  {
   "cell_type": "code",
   "execution_count": 4,
   "metadata": {},
   "outputs": [
    {
     "data": {
      "text/html": [
       "<div>\n",
       "<style scoped>\n",
       "    .dataframe tbody tr th:only-of-type {\n",
       "        vertical-align: middle;\n",
       "    }\n",
       "\n",
       "    .dataframe tbody tr th {\n",
       "        vertical-align: top;\n",
       "    }\n",
       "\n",
       "    .dataframe thead th {\n",
       "        text-align: right;\n",
       "    }\n",
       "</style>\n",
       "<table border=\"1\" class=\"dataframe\">\n",
       "  <thead>\n",
       "    <tr style=\"text-align: right;\">\n",
       "      <th></th>\n",
       "      <th>name</th>\n",
       "      <th>overview</th>\n",
       "      <th>genres</th>\n",
       "      <th>status</th>\n",
       "      <th>networks</th>\n",
       "    </tr>\n",
       "  </thead>\n",
       "  <tbody>\n",
       "    <tr>\n",
       "      <th>0</th>\n",
       "      <td>Game of Thrones</td>\n",
       "      <td>Seven noble families fight for control of the ...</td>\n",
       "      <td>Sci-Fi &amp; Fantasy, Drama, Action &amp; Adventure</td>\n",
       "      <td>Ended</td>\n",
       "      <td>HBO</td>\n",
       "    </tr>\n",
       "    <tr>\n",
       "      <th>2</th>\n",
       "      <td>Stranger Things</td>\n",
       "      <td>When a young boy vanishes, a small town uncove...</td>\n",
       "      <td>Drama, Sci-Fi &amp; Fantasy, Mystery</td>\n",
       "      <td>Returning Series</td>\n",
       "      <td>Netflix</td>\n",
       "    </tr>\n",
       "    <tr>\n",
       "      <th>3</th>\n",
       "      <td>The Walking Dead</td>\n",
       "      <td>Sheriff's deputy Rick Grimes awakens from a co...</td>\n",
       "      <td>Action &amp; Adventure, Drama, Sci-Fi &amp; Fantasy</td>\n",
       "      <td>Ended</td>\n",
       "      <td>AMC</td>\n",
       "    </tr>\n",
       "    <tr>\n",
       "      <th>4</th>\n",
       "      <td>Lucifer</td>\n",
       "      <td>Bored and unhappy as the Lord of Hell, Lucifer...</td>\n",
       "      <td>Crime, Sci-Fi &amp; Fantasy</td>\n",
       "      <td>Ended</td>\n",
       "      <td>FOX, Netflix</td>\n",
       "    </tr>\n",
       "    <tr>\n",
       "      <th>5</th>\n",
       "      <td>Riverdale</td>\n",
       "      <td>Set in the present, the series offers a bold, ...</td>\n",
       "      <td>Crime, Drama, Mystery</td>\n",
       "      <td>Ended</td>\n",
       "      <td>The CW</td>\n",
       "    </tr>\n",
       "  </tbody>\n",
       "</table>\n",
       "</div>"
      ],
      "text/plain": [
       "               name                                           overview  \\\n",
       "0   Game of Thrones  Seven noble families fight for control of the ...   \n",
       "2   Stranger Things  When a young boy vanishes, a small town uncove...   \n",
       "3  The Walking Dead  Sheriff's deputy Rick Grimes awakens from a co...   \n",
       "4           Lucifer  Bored and unhappy as the Lord of Hell, Lucifer...   \n",
       "5         Riverdale  Set in the present, the series offers a bold, ...   \n",
       "\n",
       "                                        genres            status      networks  \n",
       "0  Sci-Fi & Fantasy, Drama, Action & Adventure             Ended           HBO  \n",
       "2             Drama, Sci-Fi & Fantasy, Mystery  Returning Series       Netflix  \n",
       "3  Action & Adventure, Drama, Sci-Fi & Fantasy             Ended           AMC  \n",
       "4                      Crime, Sci-Fi & Fantasy             Ended  FOX, Netflix  \n",
       "5                        Crime, Drama, Mystery             Ended        The CW  "
      ]
     },
     "execution_count": 4,
     "metadata": {},
     "output_type": "execute_result"
    }
   ],
   "source": [
    "# Selecting a few columns only \n",
    "df = df[['name', 'overview', 'genres', 'status', 'networks']]\n",
    "\n",
    "df.head()"
   ]
  },
  {
   "cell_type": "markdown",
   "metadata": {},
   "source": [
    "### Create Documents from data"
   ]
  },
  {
   "cell_type": "code",
   "execution_count": 5,
   "metadata": {},
   "outputs": [],
   "source": [
    "from langchain.document_loaders import DataFrameLoader\n",
    "\n",
    "df[\"page_content\"] = df.apply(lambda x : f\"Name: {x['name']} \\\n",
    "                              \\nGenres: {x['genres']} \\\n",
    "                              \\nOverview: {x['overview']}  \\\n",
    "                              \\nStatus: {x['status']}  \\\n",
    "                              \\nNetwork: {x['networks']} \", \\\n",
    "                                axis=1 \\\n",
    "                                )\n",
    "\n",
    "pc_df = df[['page_content']]\n",
    "\n",
    "loader = DataFrameLoader(pc_df, page_content_column='page_content')\n",
    "\n",
    "docs = loader.load()"
   ]
  },
  {
   "cell_type": "code",
   "execution_count": 6,
   "metadata": {},
   "outputs": [
    {
     "name": "stdout",
     "output_type": "stream",
     "text": [
      "[Document(page_content=\"Name: Game of Thrones                               \\nGenres: Sci-Fi & Fantasy, Drama, Action & Adventure                               \\nOverview: Seven noble families fight for control of the mythical land of Westeros. Friction between the houses leads to full-scale war. All while a very ancient evil awakens in the farthest north. Amidst the war, a neglected military order of misfits, the Night's Watch, is all that stands between the realms of men and icy horrors beyond.                                \\nStatus: Ended                                \\nNetwork: HBO \", metadata={}), Document(page_content='Name: Stranger Things                               \\nGenres: Drama, Sci-Fi & Fantasy, Mystery                               \\nOverview: When a young boy vanishes, a small town uncovers a mystery involving secret experiments, terrifying supernatural forces, and one strange little girl.                                \\nStatus: Returning Series                                \\nNetwork: Netflix ', metadata={}), Document(page_content=\"Name: The Walking Dead                               \\nGenres: Action & Adventure, Drama, Sci-Fi & Fantasy                               \\nOverview: Sheriff's deputy Rick Grimes awakens from a coma to find a post-apocalyptic world dominated by flesh-eating zombies. He sets out to find his family and encounters many other survivors along the way.                                \\nStatus: Ended                                \\nNetwork: AMC \", metadata={})]\n",
      "38671\n"
     ]
    }
   ],
   "source": [
    "print(docs[:3]) \n",
    "print(len(docs))"
   ]
  },
  {
   "cell_type": "markdown",
   "metadata": {},
   "source": [
    "### Embedd documents"
   ]
  },
  {
   "cell_type": "code",
   "execution_count": 74,
   "metadata": {},
   "outputs": [
    {
     "data": {
      "text/plain": [
       "[101, 56, 71]"
      ]
     },
     "execution_count": 74,
     "metadata": {},
     "output_type": "execute_result"
    }
   ],
   "source": [
    "import tiktoken \n",
    "\n",
    "encoder = tiktoken.get_encoding('cl100k_base')\n",
    "\n",
    "tokens_per_doc = [len(encoder.encode(doc.page_content)) for doc in docs]"
   ]
  },
  {
   "cell_type": "code",
   "execution_count": 75,
   "metadata": {},
   "outputs": [
    {
     "name": "stdout",
     "output_type": "stream",
     "text": [
      "$0.35307730000000004\n"
     ]
    }
   ],
   "source": [
    "# Show the estimated cost\n",
    "# est costs : https://www.linkedin.com/learning/openai-api-embeddings/estimate-embeddings-pricing#:~:text=The%20cost%20of%20return%20and,because%20it's%20under%201000%20tokens.\n",
    "total_tokens = sum(tokens_per_doc)\n",
    "cost_per_1k_token = 0.0001\n",
    "cost = (total_tokens/1000) * cost_per_1k_token\n",
    "\n",
    "print(f'${cost}')"
   ]
  },
  {
   "cell_type": "markdown",
   "metadata": {},
   "source": [
    "### Create Pinecone Index"
   ]
  },
  {
   "cell_type": "code",
   "execution_count": 19,
   "metadata": {},
   "outputs": [
    {
     "data": {
      "text/plain": [
       "True"
      ]
     },
     "execution_count": 19,
     "metadata": {},
     "output_type": "execute_result"
    }
   ],
   "source": [
    "import sys \n",
    "sys.path.append('..\\..\\src')\n",
    "from paths import PARENT_DIR\n",
    "\n",
    "from dotenv import load_dotenv\n",
    "import os \n",
    "\n",
    "load_dotenv(PARENT_DIR / '.env')"
   ]
  },
  {
   "cell_type": "code",
   "execution_count": 77,
   "metadata": {},
   "outputs": [
    {
     "name": "stdout",
     "output_type": "stream",
     "text": [
      "Deleted existing index: tmdb-tv-shows\n",
      "Created index: tmdb-tv-shows\n"
     ]
    }
   ],
   "source": [
    "import pinecone\n",
    "\n",
    "pinecone.init(api_key = os.environ[\"PINECONE_API_KEY\"],\n",
    "             environment=\"gcp-starter\")\n",
    "\n",
    "\n",
    "index_name = \"tmdb-tv-shows\"\n",
    "\n",
    "# # Check if the index already exists\n",
    "# if index_name in pinecone.list_indexes():\n",
    "#     # Delete the existing index\n",
    "#     pinecone.delete_index(index_name)\n",
    "#     print(f\"Deleted existing index: {index_name}\")\n",
    "\n",
    "\n",
    "if index_name not in pinecone.list_indexes():\n",
    "    # Create the index if it does not exist\n",
    "    pinecone.create_index(\n",
    "        name = index_name,\n",
    "        metric = \"cosine\",\n",
    "        dimension = 1536,) # dimensions for model we'll use\n",
    "    print(f\"Created index: {index_name}\")"
   ]
  },
  {
   "cell_type": "code",
   "execution_count": 20,
   "metadata": {},
   "outputs": [],
   "source": [
    "from langchain.embeddings.openai import OpenAIEmbeddings\n",
    "from langchain.vectorstores import Pinecone\n",
    "\n",
    "\n",
    "# Create the embeddings object\n",
    "embeddings = OpenAIEmbeddings()\n",
    "\n",
    "\n",
    "docsearch = Pinecone.from_documents(docs,embeddings,index_name = index_name)\n"
   ]
  },
  {
   "cell_type": "code",
   "execution_count": 21,
   "metadata": {},
   "outputs": [
    {
     "data": {
      "text/plain": [
       "'text-embedding-ada-002'"
      ]
     },
     "execution_count": 21,
     "metadata": {},
     "output_type": "execute_result"
    }
   ],
   "source": [
    "embeddings.model"
   ]
  },
  {
   "cell_type": "code",
   "execution_count": 79,
   "metadata": {},
   "outputs": [
    {
     "data": {
      "text/plain": [
       "[Document(page_content='Name: The Cops                               \\nGenres: Drama                               \\nOverview: Set in and around Stanton, a faceless and grim Northern enclave, The Cops depicts the daily grind for a group of policemen and women out on the beat as they interact, and sometimes clash, with the local community.                                \\nStatus: Ended                                \\nNetwork: BBC Two ', metadata={}),\n",
       " Document(page_content='Name: Police Station                               \\nGenres: Drama                               \\nOverview: Police Station is an American TV series that aired in syndication in 1959. Stories were taken from actual files.                                \\nStatus: Ended                                \\nNetwork: nan ', metadata={}),\n",
       " Document(page_content='Name: Police Call                               \\nGenres: nan                               \\nOverview: Police Call is a 1955 anthology drama television series which was based on actual police cases and was one of the top grossing television series released that year.                                \\nStatus: Ended                                \\nNetwork: Syndication ', metadata={}),\n",
       " Document(page_content='Name: Police Squad!                               \\nGenres: Comedy, Crime                               \\nOverview: In this cult parody of cop dramas, replete with farce and sight gags, Lieutenant Frank Drebin and his fellow officers from Police Squad bungle their way though crime investigations.                                \\nStatus: Ended                                \\nNetwork: ABC ', metadata={})]"
      ]
     },
     "execution_count": 79,
     "metadata": {},
     "output_type": "execute_result"
    }
   ],
   "source": [
    "question = \"can you give me some names of shows which are about the police?\"\n",
    "\n",
    "docsearch.as_retriever().get_relevant_documents(question)"
   ]
  }
 ],
 "metadata": {
  "kernelspec": {
   "display_name": "rag_env",
   "language": "python",
   "name": "python3"
  },
  "language_info": {
   "codemirror_mode": {
    "name": "ipython",
    "version": 3
   },
   "file_extension": ".py",
   "mimetype": "text/x-python",
   "name": "python",
   "nbconvert_exporter": "python",
   "pygments_lexer": "ipython3",
   "version": "3.9.0"
  }
 },
 "nbformat": 4,
 "nbformat_minor": 2
}
