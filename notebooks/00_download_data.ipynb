{
 "cells": [
  {
   "cell_type": "code",
   "execution_count": 1,
   "metadata": {},
   "outputs": [],
   "source": [
    "from kaggle.api.kaggle_api_extended import KaggleApi\n",
    "\n",
    "api = KaggleApi()\n",
    "api.authenticate()\n",
    "\n",
    "# api json is kept C:\\Users\\Aqib\\.kaggle"
   ]
  },
  {
   "cell_type": "code",
   "execution_count": 4,
   "metadata": {},
   "outputs": [],
   "source": [
    "from src.paths import DATA_DIR"
   ]
  },
  {
   "cell_type": "markdown",
   "metadata": {},
   "source": [
    "### Download data"
   ]
  },
  {
   "cell_type": "code",
   "execution_count": 28,
   "metadata": {},
   "outputs": [],
   "source": [
    "kaggle_data = 'mexwell/uk-smoking-data'\n",
    "\n",
    "api.dataset_download_files(kaggle_data,\n",
    "                          path= DATA_DIR\n",
    "                          , unzip= True\n",
    "\n",
    "                          )\n",
    "                        "
   ]
  },
  {
   "cell_type": "markdown",
   "metadata": {},
   "source": [
    "### Trying to get metadata"
   ]
  },
  {
   "cell_type": "code",
   "execution_count": 25,
   "metadata": {},
   "outputs": [
    {
     "data": {
      "text/plain": [
       "{'subtitleNullable': 'Survey data on smoking habits from the UK',\n",
       " 'creatorNameNullable': 'mexwell',\n",
       " 'creatorUrlNullable': 'mexwell',\n",
       " 'totalBytesNullable': 13354,\n",
       " 'urlNullable': 'https://www.kaggle.com/datasets/mexwell/uk-smoking-data',\n",
       " 'licenseNameNullable': 'Other (specified in description)',\n",
       " 'descriptionNullable': None,\n",
       " 'ownerNameNullable': 'mexwell',\n",
       " 'ownerRefNullable': 'mexwell',\n",
       " 'titleNullable': '🚬 UK Smoking Data',\n",
       " 'currentVersionNumberNullable': 1,\n",
       " 'usabilityRatingNullable': 1.0,\n",
       " 'id': 4553963,\n",
       " 'ref': 'mexwell/uk-smoking-data',\n",
       " 'subtitle': 'Survey data on smoking habits from the UK',\n",
       " 'hasSubtitle': True,\n",
       " 'creatorName': 'mexwell',\n",
       " 'hasCreatorName': True,\n",
       " 'creatorUrl': 'mexwell',\n",
       " 'hasCreatorUrl': True,\n",
       " 'totalBytes': 13354,\n",
       " 'hasTotalBytes': True,\n",
       " 'url': 'https://www.kaggle.com/datasets/mexwell/uk-smoking-data',\n",
       " 'hasUrl': True,\n",
       " 'lastUpdated': datetime.datetime(2024, 3, 7, 7, 10),\n",
       " 'downloadCount': 579,\n",
       " 'isPrivate': False,\n",
       " 'isFeatured': False,\n",
       " 'licenseName': 'Other (specified in description)',\n",
       " 'hasLicenseName': True,\n",
       " 'description': '',\n",
       " 'hasDescription': False,\n",
       " 'ownerName': 'mexwell',\n",
       " 'hasOwnerName': True,\n",
       " 'ownerRef': 'mexwell',\n",
       " 'hasOwnerRef': True,\n",
       " 'kernelCount': 10,\n",
       " 'title': '🚬 UK Smoking Data',\n",
       " 'hasTitle': True,\n",
       " 'topicCount': 0,\n",
       " 'viewCount': 2455,\n",
       " 'voteCount': 13,\n",
       " 'currentVersionNumber': 1,\n",
       " 'hasCurrentVersionNumber': True,\n",
       " 'usabilityRating': 1.0,\n",
       " 'hasUsabilityRating': True,\n",
       " 'tags': [healthcare, public health, health, health conditions],\n",
       " 'files': [],\n",
       " 'versions': [],\n",
       " 'size': '13KB'}"
      ]
     },
     "execution_count": 25,
     "metadata": {},
     "output_type": "execute_result"
    }
   ],
   "source": [
    "ds = api.dataset_list(search='mexwell/uk-smoking-data')[0]\n",
    "vars(ds)"
   ]
  },
  {
   "cell_type": "code",
   "execution_count": 32,
   "metadata": {},
   "outputs": [
    {
     "data": {
      "text/plain": [
       "'here.json\\\\dataset-metadata.json'"
      ]
     },
     "execution_count": 32,
     "metadata": {},
     "output_type": "execute_result"
    }
   ],
   "source": [
    "#api.dataset_metadata(kaggle_data, 'data_metadata.json')"
   ]
  }
 ],
 "metadata": {
  "kernelspec": {
   "display_name": ".venv",
   "language": "python",
   "name": "python3"
  },
  "language_info": {
   "codemirror_mode": {
    "name": "ipython",
    "version": 3
   },
   "file_extension": ".py",
   "mimetype": "text/x-python",
   "name": "python",
   "nbconvert_exporter": "python",
   "pygments_lexer": "ipython3",
   "version": "3.8.3"
  }
 },
 "nbformat": 4,
 "nbformat_minor": 2
}
